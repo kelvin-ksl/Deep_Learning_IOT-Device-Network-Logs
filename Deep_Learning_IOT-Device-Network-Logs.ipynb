{
 "cells": [
  {
   "cell_type": "markdown",
   "id": "340ea93e",
   "metadata": {},
   "source": [
    "# Redes Profundas e Meta-heurísticas\n"
   ]
  },
  {
   "cell_type": "code",
   "execution_count": 1,
   "id": "e63d4ea5",
   "metadata": {},
   "outputs": [],
   "source": [
    "#Importando bibliotecas\n",
    "\n",
    "import numpy as np\n",
    "import pandas as pd\n",
    "import tensorflow.keras as keras\n",
    "from sklearn.model_selection import train_test_split\n",
    "from tensorflow.keras import layers, models,optimizers\n",
    "from sklearn.preprocessing import MinMaxScaler"
   ]
  },
  {
   "cell_type": "markdown",
   "id": "281e6ecc",
   "metadata": {},
   "source": [
    "# Conjunto de dados \n",
    "\n",
    "https://www.kaggle.com/code/mpwolke/iot-device-network-logs/comments e pré-processado para sistema de detecção de intrusão baseado em rede em dispositivos IoT. Sensor ultrassônico com Arduino e NodeMCU usado para monitorar a rede e coletar os logs da rede. NodeMCU com módulo wifi ESP8266 foi usado para enviar dados para o servidor via wifi.\n",
    "\n",
    "Este conjunto de dados é pré-processado de acordo com o sistema de detecção de intrusão baseado em rede em dispositivos IoT. Os dados usados abaixo sofreram uma modifição, o dataset original continha as seguintes assinatura de dados:\n",
    "\n",
    "0- Normal 1- Configuração errada 2- Ddos​​3- Sondagem de tipo de dados (sensor ultrassônico foi usado, então na sondagem de tipo de dados a maioria dos valores de string são enviados para o servidor) 4 - Ataque de varredura 5 - Homem no meio"
   ]
  },
  {
   "cell_type": "code",
   "execution_count": 2,
   "id": "837f749b",
   "metadata": {},
   "outputs": [
    {
     "data": {
      "text/html": [
       "<div>\n",
       "<style scoped>\n",
       "    .dataframe tbody tr th:only-of-type {\n",
       "        vertical-align: middle;\n",
       "    }\n",
       "\n",
       "    .dataframe tbody tr th {\n",
       "        vertical-align: top;\n",
       "    }\n",
       "\n",
       "    .dataframe thead th {\n",
       "        text-align: right;\n",
       "    }\n",
       "</style>\n",
       "<table border=\"1\" class=\"dataframe\">\n",
       "  <thead>\n",
       "    <tr style=\"text-align: right;\">\n",
       "      <th></th>\n",
       "      <th>frame.number</th>\n",
       "      <th>frame.time</th>\n",
       "      <th>frame.len</th>\n",
       "      <th>eth.src</th>\n",
       "      <th>eth.dst</th>\n",
       "      <th>ip.src</th>\n",
       "      <th>ip.dst</th>\n",
       "      <th>ip.proto</th>\n",
       "      <th>ip.len</th>\n",
       "      <th>tcp.len</th>\n",
       "      <th>tcp.srcport</th>\n",
       "      <th>tcp.dstport</th>\n",
       "      <th>Value</th>\n",
       "      <th>normality</th>\n",
       "    </tr>\n",
       "  </thead>\n",
       "  <tbody>\n",
       "    <tr>\n",
       "      <th>0</th>\n",
       "      <td>1</td>\n",
       "      <td>123722736684743</td>\n",
       "      <td>54</td>\n",
       "      <td>87971959760497</td>\n",
       "      <td>167275820076079</td>\n",
       "      <td>192168035</td>\n",
       "      <td>1921680121</td>\n",
       "      <td>6.0</td>\n",
       "      <td>40.0</td>\n",
       "      <td>0.0</td>\n",
       "      <td>49279.0</td>\n",
       "      <td>80.0</td>\n",
       "      <td>-99.0</td>\n",
       "      <td>0</td>\n",
       "    </tr>\n",
       "    <tr>\n",
       "      <th>1</th>\n",
       "      <td>2</td>\n",
       "      <td>123722736773147</td>\n",
       "      <td>62</td>\n",
       "      <td>87971959760497</td>\n",
       "      <td>167275820076079</td>\n",
       "      <td>192168035</td>\n",
       "      <td>1921680121</td>\n",
       "      <td>6.0</td>\n",
       "      <td>48.0</td>\n",
       "      <td>0.0</td>\n",
       "      <td>56521.0</td>\n",
       "      <td>80.0</td>\n",
       "      <td>-99.0</td>\n",
       "      <td>0</td>\n",
       "    </tr>\n",
       "    <tr>\n",
       "      <th>2</th>\n",
       "      <td>3</td>\n",
       "      <td>123722736824792</td>\n",
       "      <td>62</td>\n",
       "      <td>167275820076079</td>\n",
       "      <td>87971959760497</td>\n",
       "      <td>1921680121</td>\n",
       "      <td>192168035</td>\n",
       "      <td>6.0</td>\n",
       "      <td>48.0</td>\n",
       "      <td>0.0</td>\n",
       "      <td>80.0</td>\n",
       "      <td>56521.0</td>\n",
       "      <td>-99.0</td>\n",
       "      <td>0</td>\n",
       "    </tr>\n",
       "    <tr>\n",
       "      <th>3</th>\n",
       "      <td>4</td>\n",
       "      <td>123722736836228</td>\n",
       "      <td>54</td>\n",
       "      <td>167275820076079</td>\n",
       "      <td>87971959760497</td>\n",
       "      <td>1921680121</td>\n",
       "      <td>192168035</td>\n",
       "      <td>6.0</td>\n",
       "      <td>40.0</td>\n",
       "      <td>0.0</td>\n",
       "      <td>80.0</td>\n",
       "      <td>49279.0</td>\n",
       "      <td>-99.0</td>\n",
       "      <td>0</td>\n",
       "    </tr>\n",
       "    <tr>\n",
       "      <th>4</th>\n",
       "      <td>5</td>\n",
       "      <td>123722749684991</td>\n",
       "      <td>54</td>\n",
       "      <td>87971959760497</td>\n",
       "      <td>167275820076079</td>\n",
       "      <td>192168035</td>\n",
       "      <td>1921680121</td>\n",
       "      <td>6.0</td>\n",
       "      <td>40.0</td>\n",
       "      <td>0.0</td>\n",
       "      <td>56521.0</td>\n",
       "      <td>80.0</td>\n",
       "      <td>-99.0</td>\n",
       "      <td>0</td>\n",
       "    </tr>\n",
       "    <tr>\n",
       "      <th>...</th>\n",
       "      <td>...</td>\n",
       "      <td>...</td>\n",
       "      <td>...</td>\n",
       "      <td>...</td>\n",
       "      <td>...</td>\n",
       "      <td>...</td>\n",
       "      <td>...</td>\n",
       "      <td>...</td>\n",
       "      <td>...</td>\n",
       "      <td>...</td>\n",
       "      <td>...</td>\n",
       "      <td>...</td>\n",
       "      <td>...</td>\n",
       "      <td>...</td>\n",
       "    </tr>\n",
       "    <tr>\n",
       "      <th>477421</th>\n",
       "      <td>87181</td>\n",
       "      <td>128413885087438</td>\n",
       "      <td>42</td>\n",
       "      <td>167275820076079</td>\n",
       "      <td>87971959760497</td>\n",
       "      <td>0</td>\n",
       "      <td>0</td>\n",
       "      <td>-1.0</td>\n",
       "      <td>0.0</td>\n",
       "      <td>0.0</td>\n",
       "      <td>0.0</td>\n",
       "      <td>0.0</td>\n",
       "      <td>-5.0</td>\n",
       "      <td>5</td>\n",
       "    </tr>\n",
       "    <tr>\n",
       "      <th>477422</th>\n",
       "      <td>69378</td>\n",
       "      <td>127166820599383</td>\n",
       "      <td>42</td>\n",
       "      <td>167275820076079</td>\n",
       "      <td>87971959760497</td>\n",
       "      <td>0</td>\n",
       "      <td>0</td>\n",
       "      <td>-1.0</td>\n",
       "      <td>0.0</td>\n",
       "      <td>0.0</td>\n",
       "      <td>0.0</td>\n",
       "      <td>0.0</td>\n",
       "      <td>-5.0</td>\n",
       "      <td>5</td>\n",
       "    </tr>\n",
       "    <tr>\n",
       "      <th>477423</th>\n",
       "      <td>81928</td>\n",
       "      <td>126800153119873</td>\n",
       "      <td>42</td>\n",
       "      <td>167275820076079</td>\n",
       "      <td>87971959760497</td>\n",
       "      <td>0</td>\n",
       "      <td>0</td>\n",
       "      <td>-1.0</td>\n",
       "      <td>0.0</td>\n",
       "      <td>0.0</td>\n",
       "      <td>0.0</td>\n",
       "      <td>0.0</td>\n",
       "      <td>-5.0</td>\n",
       "      <td>5</td>\n",
       "    </tr>\n",
       "    <tr>\n",
       "      <th>477424</th>\n",
       "      <td>37052</td>\n",
       "      <td>124902446969093</td>\n",
       "      <td>42</td>\n",
       "      <td>167275820076079</td>\n",
       "      <td>87971959760497</td>\n",
       "      <td>0</td>\n",
       "      <td>0</td>\n",
       "      <td>-1.0</td>\n",
       "      <td>0.0</td>\n",
       "      <td>0.0</td>\n",
       "      <td>0.0</td>\n",
       "      <td>0.0</td>\n",
       "      <td>-5.0</td>\n",
       "      <td>5</td>\n",
       "    </tr>\n",
       "    <tr>\n",
       "      <th>477425</th>\n",
       "      <td>78990</td>\n",
       "      <td>128113220512685</td>\n",
       "      <td>42</td>\n",
       "      <td>167275820076079</td>\n",
       "      <td>87971959760497</td>\n",
       "      <td>0</td>\n",
       "      <td>0</td>\n",
       "      <td>-1.0</td>\n",
       "      <td>0.0</td>\n",
       "      <td>0.0</td>\n",
       "      <td>0.0</td>\n",
       "      <td>0.0</td>\n",
       "      <td>-5.0</td>\n",
       "      <td>5</td>\n",
       "    </tr>\n",
       "  </tbody>\n",
       "</table>\n",
       "<p>477426 rows × 14 columns</p>\n",
       "</div>"
      ],
      "text/plain": [
       "        frame.number       frame.time  frame.len          eth.src  \\\n",
       "0                  1  123722736684743         54   87971959760497   \n",
       "1                  2  123722736773147         62   87971959760497   \n",
       "2                  3  123722736824792         62  167275820076079   \n",
       "3                  4  123722736836228         54  167275820076079   \n",
       "4                  5  123722749684991         54   87971959760497   \n",
       "...              ...              ...        ...              ...   \n",
       "477421         87181  128413885087438         42  167275820076079   \n",
       "477422         69378  127166820599383         42  167275820076079   \n",
       "477423         81928  126800153119873         42  167275820076079   \n",
       "477424         37052  124902446969093         42  167275820076079   \n",
       "477425         78990  128113220512685         42  167275820076079   \n",
       "\n",
       "                eth.dst      ip.src      ip.dst  ip.proto  ip.len  tcp.len  \\\n",
       "0       167275820076079   192168035  1921680121       6.0    40.0      0.0   \n",
       "1       167275820076079   192168035  1921680121       6.0    48.0      0.0   \n",
       "2        87971959760497  1921680121   192168035       6.0    48.0      0.0   \n",
       "3        87971959760497  1921680121   192168035       6.0    40.0      0.0   \n",
       "4       167275820076079   192168035  1921680121       6.0    40.0      0.0   \n",
       "...                 ...         ...         ...       ...     ...      ...   \n",
       "477421   87971959760497           0           0      -1.0     0.0      0.0   \n",
       "477422   87971959760497           0           0      -1.0     0.0      0.0   \n",
       "477423   87971959760497           0           0      -1.0     0.0      0.0   \n",
       "477424   87971959760497           0           0      -1.0     0.0      0.0   \n",
       "477425   87971959760497           0           0      -1.0     0.0      0.0   \n",
       "\n",
       "        tcp.srcport  tcp.dstport  Value  normality  \n",
       "0           49279.0         80.0  -99.0          0  \n",
       "1           56521.0         80.0  -99.0          0  \n",
       "2              80.0      56521.0  -99.0          0  \n",
       "3              80.0      49279.0  -99.0          0  \n",
       "4           56521.0         80.0  -99.0          0  \n",
       "...             ...          ...    ...        ...  \n",
       "477421          0.0          0.0   -5.0          5  \n",
       "477422          0.0          0.0   -5.0          5  \n",
       "477423          0.0          0.0   -5.0          5  \n",
       "477424          0.0          0.0   -5.0          5  \n",
       "477425          0.0          0.0   -5.0          5  \n",
       "\n",
       "[477426 rows x 14 columns]"
      ]
     },
     "execution_count": 2,
     "metadata": {},
     "output_type": "execute_result"
    }
   ],
   "source": [
    "df = pd.read_csv('Preprocessed_data.csv')\n",
    "df"
   ]
  },
  {
   "cell_type": "code",
   "execution_count": 3,
   "id": "e5e7812d",
   "metadata": {},
   "outputs": [
    {
     "name": "stdout",
     "output_type": "stream",
     "text": [
      "<class 'pandas.core.frame.DataFrame'>\n",
      "RangeIndex: 477426 entries, 0 to 477425\n",
      "Data columns (total 14 columns):\n",
      " #   Column        Non-Null Count   Dtype  \n",
      "---  ------        --------------   -----  \n",
      " 0   frame.number  477426 non-null  int64  \n",
      " 1   frame.time    477426 non-null  int64  \n",
      " 2   frame.len     477426 non-null  int64  \n",
      " 3   eth.src       477426 non-null  int64  \n",
      " 4   eth.dst       477426 non-null  int64  \n",
      " 5   ip.src        477426 non-null  int64  \n",
      " 6   ip.dst        477426 non-null  int64  \n",
      " 7   ip.proto      477426 non-null  float64\n",
      " 8   ip.len        477426 non-null  float64\n",
      " 9   tcp.len       477426 non-null  float64\n",
      " 10  tcp.srcport   477426 non-null  float64\n",
      " 11  tcp.dstport   477426 non-null  float64\n",
      " 12  Value         477426 non-null  float64\n",
      " 13  normality     477426 non-null  int64  \n",
      "dtypes: float64(6), int64(8)\n",
      "memory usage: 51.0 MB\n"
     ]
    }
   ],
   "source": [
    "df.info()"
   ]
  },
  {
   "cell_type": "code",
   "execution_count": 4,
   "id": "a49f2934",
   "metadata": {},
   "outputs": [],
   "source": [
    "data = df.values #Conversão para array\n",
    "\n",
    "#Divisão em X e Y\n",
    "\n",
    "X = data[:,0:13]\n",
    "Y = data[:,13]"
   ]
  },
  {
   "cell_type": "code",
   "execution_count": 5,
   "id": "aff660ec",
   "metadata": {},
   "outputs": [],
   "source": [
    "#Divide os dados em trein e test\n",
    "\n",
    "Xtrain, Xtest, Ytrain, Ytest = train_test_split(X,Y, train_size=0.8)"
   ]
  },
  {
   "cell_type": "code",
   "execution_count": 6,
   "id": "44435a04",
   "metadata": {},
   "outputs": [],
   "source": [
    "#Normalizando X e Y\n",
    "\n",
    "scaler = MinMaxScaler()\n",
    "XtrainS = scaler.fit_transform(Xtrain)\n",
    "XtestS = scaler.transform(Xtest)"
   ]
  },
  {
   "cell_type": "code",
   "execution_count": 7,
   "id": "46f5aa93",
   "metadata": {},
   "outputs": [
    {
     "data": {
      "text/plain": [
       "(381940, 13)"
      ]
     },
     "execution_count": 7,
     "metadata": {},
     "output_type": "execute_result"
    }
   ],
   "source": [
    "#Definição do tamanho para a camada de entrada\n",
    "\n",
    "tamanho=Xtrain.shape\n",
    "tamanho"
   ]
  },
  {
   "cell_type": "code",
   "execution_count": 8,
   "id": "2590d90d",
   "metadata": {},
   "outputs": [
    {
     "name": "stdout",
     "output_type": "stream",
     "text": [
      "### Antes ###\n",
      "[2. 1. 0. 0. 2.]\n",
      "[2. 4. 0. 0. 3.]\n",
      "\n",
      "### Depois ###\n",
      "[[0. 0. 1. 0. 0. 0.]\n",
      " [0. 1. 0. 0. 0. 0.]\n",
      " [1. 0. 0. 0. 0. 0.]\n",
      " [1. 0. 0. 0. 0. 0.]\n",
      " [0. 0. 1. 0. 0. 0.]]\n",
      "[[0. 0. 1. 0. 0. 0.]\n",
      " [0. 0. 0. 0. 1. 0.]\n",
      " [1. 0. 0. 0. 0. 0.]\n",
      " [1. 0. 0. 0. 0. 0.]\n",
      " [0. 0. 0. 1. 0. 0.]]\n"
     ]
    }
   ],
   "source": [
    "#Cria as classes para o modelo multiclasses\n",
    "\n",
    "Ytrain_onehot = keras.utils.to_categorical(Ytrain, num_classes = 6)\n",
    "Ytest_onehot = keras.utils.to_categorical(Ytest, num_classes = 6)\n",
    "\n",
    "# imprime os 5 primeiros valores para exemplificar\n",
    "\n",
    "print(\"### Antes ###\")\n",
    "print(Ytrain[:5])\n",
    "print(Ytest[:5])\n",
    "\n",
    "print(\"\\n### Depois ###\")\n",
    "print(Ytrain_onehot[:5])\n",
    "print(Ytest_onehot[:5])"
   ]
  },
  {
   "cell_type": "markdown",
   "id": "c81489a4",
   "metadata": {},
   "source": []
  },
  {
   "cell_type": "code",
   "execution_count": 9,
   "id": "aa803473",
   "metadata": {},
   "outputs": [
    {
     "name": "stdout",
     "output_type": "stream",
     "text": [
      "Model: \"sequential\"\n",
      "_________________________________________________________________\n",
      " Layer (type)                Output Shape              Param #   \n",
      "=================================================================\n",
      " dense (Dense)               (None, 16)                224       \n",
      "                                                                 \n",
      " dense_1 (Dense)             (None, 16)                272       \n",
      "                                                                 \n",
      " dense_2 (Dense)             (None, 16)                272       \n",
      "                                                                 \n",
      " dense_3 (Dense)             (None, 6)                 102       \n",
      "                                                                 \n",
      "=================================================================\n",
      "Total params: 870\n",
      "Trainable params: 870\n",
      "Non-trainable params: 0\n",
      "_________________________________________________________________\n"
     ]
    }
   ],
   "source": [
    "#Criando o modelo sequencial e suas respectivas camadas ocultas, a função ultilizada na camada de \n",
    "#ativação foi a Softmax por se tratar de uma classificação multicategórica e nas demais a relu tanh.\n",
    "\n",
    "model=models.Sequential()\n",
    "model.add(layers.Dense(16, activation='tanh', input_dim=tamanho[1]))\n",
    "model.add(layers.Dense(16,activation='tanh'))\n",
    "model.add(layers.Dense(16,activation='tanh'))\n",
    "model.add(layers.Dense(6,activation='softmax'))\n",
    "model.summary()"
   ]
  },
  {
   "cell_type": "code",
   "execution_count": 10,
   "id": "2266c7fa",
   "metadata": {},
   "outputs": [],
   "source": [
    "#Loss definida como categorical_crossentropy por se tratar de uma classificação categórica \n",
    "#Acc será a acurária contabilizando a quantidade de acertos da classificação\n",
    "\n",
    "model.compile(loss='categorical_crossentropy', optimizer='Adam', metrics=['acc'])"
   ]
  },
  {
   "cell_type": "markdown",
   "id": "6521bce0",
   "metadata": {},
   "source": [
    "Para obter as melhores métricas foram aplicados os métodos de normalização para os dados de entrada e one-hot encoding para formar a camada de saída, pois antes das alterações os resultados alcançados não ultrapassavam os 72% de acurácia."
   ]
  },
  {
   "cell_type": "code",
   "execution_count": 11,
   "id": "f45ae765",
   "metadata": {},
   "outputs": [
    {
     "name": "stdout",
     "output_type": "stream",
     "text": [
      "Epoch 1/20\n",
      "1492/1492 [==============================] - 3s 2ms/step - loss: 0.4165 - acc: 0.8505 - val_loss: 0.1243 - val_acc: 0.9650\n",
      "Epoch 2/20\n",
      "1492/1492 [==============================] - 2s 1ms/step - loss: 0.0912 - acc: 0.9831 - val_loss: 0.0668 - val_acc: 0.9912\n",
      "Epoch 3/20\n",
      "1492/1492 [==============================] - 2s 2ms/step - loss: 0.0516 - acc: 0.9916 - val_loss: 0.0423 - val_acc: 0.9926\n",
      "Epoch 4/20\n",
      "1492/1492 [==============================] - 2s 1ms/step - loss: 0.0357 - acc: 0.9925 - val_loss: 0.0315 - val_acc: 0.9928\n",
      "Epoch 5/20\n",
      "1492/1492 [==============================] - 2s 2ms/step - loss: 0.0295 - acc: 0.9936 - val_loss: 0.0285 - val_acc: 0.9944\n",
      "Epoch 6/20\n",
      "1492/1492 [==============================] - 2s 2ms/step - loss: 0.0263 - acc: 0.9947 - val_loss: 0.0252 - val_acc: 0.9952\n",
      "Epoch 7/20\n",
      "1492/1492 [==============================] - 2s 2ms/step - loss: 0.0245 - acc: 0.9950 - val_loss: 0.0249 - val_acc: 0.9956\n",
      "Epoch 8/20\n",
      "1492/1492 [==============================] - 3s 2ms/step - loss: 0.0233 - acc: 0.9953 - val_loss: 0.0227 - val_acc: 0.9955\n",
      "Epoch 9/20\n",
      "1492/1492 [==============================] - 2s 2ms/step - loss: 0.0224 - acc: 0.9954 - val_loss: 0.0216 - val_acc: 0.9956\n",
      "Epoch 10/20\n",
      "1492/1492 [==============================] - 2s 2ms/step - loss: 0.0219 - acc: 0.9956 - val_loss: 0.0245 - val_acc: 0.9955\n",
      "Epoch 11/20\n",
      "1492/1492 [==============================] - 2s 2ms/step - loss: 0.0217 - acc: 0.9956 - val_loss: 0.0214 - val_acc: 0.9955\n",
      "Epoch 12/20\n",
      "1492/1492 [==============================] - 3s 2ms/step - loss: 0.0213 - acc: 0.9957 - val_loss: 0.0205 - val_acc: 0.9957\n",
      "Epoch 13/20\n",
      "1492/1492 [==============================] - 2s 1ms/step - loss: 0.0210 - acc: 0.9957 - val_loss: 0.0209 - val_acc: 0.9955\n",
      "Epoch 14/20\n",
      "1492/1492 [==============================] - 2s 1ms/step - loss: 0.0209 - acc: 0.9957 - val_loss: 0.0220 - val_acc: 0.9955\n",
      "Epoch 15/20\n",
      "1492/1492 [==============================] - 2s 1ms/step - loss: 0.0206 - acc: 0.9957 - val_loss: 0.0206 - val_acc: 0.9959\n",
      "Epoch 16/20\n",
      "1492/1492 [==============================] - 2s 1ms/step - loss: 0.0205 - acc: 0.9957 - val_loss: 0.0203 - val_acc: 0.9957\n",
      "Epoch 17/20\n",
      "1492/1492 [==============================] - 2s 1ms/step - loss: 0.0204 - acc: 0.9958 - val_loss: 0.0201 - val_acc: 0.9959\n",
      "Epoch 18/20\n",
      "1492/1492 [==============================] - 2s 1ms/step - loss: 0.0201 - acc: 0.9958 - val_loss: 0.0197 - val_acc: 0.9959\n",
      "Epoch 19/20\n",
      "1492/1492 [==============================] - 2s 1ms/step - loss: 0.0200 - acc: 0.9958 - val_loss: 0.0199 - val_acc: 0.9959\n",
      "Epoch 20/20\n",
      "1492/1492 [==============================] - 2s 2ms/step - loss: 0.0199 - acc: 0.9958 - val_loss: 0.0194 - val_acc: 0.9959\n"
     ]
    }
   ],
   "source": [
    "#Treinamento do modelo\n",
    "\n",
    "history = model.fit(XtrainS,Ytrain_onehot, epochs = 20,batch_size = 256, validation_data=(XtestS,Ytest_onehot))"
   ]
  },
  {
   "cell_type": "code",
   "execution_count": 12,
   "id": "59c2ed0a",
   "metadata": {},
   "outputs": [
    {
     "data": {
      "image/png": "[encoded data removed]",
      "text/plain": [
       "<Figure size 432x288 with 1 Axes>"
      ]
     },
     "metadata": {
      "needs_background": "light"
     },
     "output_type": "display_data"
    },
    {
     "data": {
      "image/png": "[encoded data removed]",
      "text/plain": [
       "<Figure size 432x288 with 1 Axes>"
      ]
     },
     "metadata": {
      "needs_background": "light"
     },
     "output_type": "display_data"
    }
   ],
   "source": [
    "#Plotando resultado\n",
    "\n",
    "import matplotlib.pyplot as plt\n",
    "acc = history.history['acc']\n",
    "val_acc = history.history['val_acc']\n",
    "loss = history.history['loss']\n",
    "val_loss = history.history['val_loss']\n",
    "epochs = range(1, len(acc) + 1)\n",
    "plt.plot(epochs, acc, 'bo', label='Training acc')\n",
    "plt.plot(epochs, val_acc, 'b', label='Validation acc')\n",
    "plt.title('Training and validation accuracy')\n",
    "plt.legend()\n",
    "plt.figure()\n",
    "plt.plot(epochs, loss, 'bo', label='Training loss')\n",
    "plt.plot(epochs, val_loss, 'b', label='Validation loss')\n",
    "plt.title('Training and validation loss')\n",
    "plt.legend()\n",
    "plt.show()"
   ]
  },
  {
   "cell_type": "markdown",
   "id": "ea7ca55b",
   "metadata": {},
   "source": [
    "Conforme observado nos gráficos acima, constatamos que o dados se adequaram ao modelo tanto no treino quanto no teste, chegando a uma acurácia de 99,58% para treino e 99,59% para a validação. "
   ]
  },
  {
   "cell_type": "code",
   "execution_count": null,
   "id": "c686500b",
   "metadata": {},
   "outputs": [],
   "source": []
  }
 ],
 "metadata": {
  "kernelspec": {
   "display_name": "Python 3 (ipykernel)",
   "language": "python",
   "name": "python3"
  },
  "language_info": {
   "codemirror_mode": {
    "name": "ipython",
    "version": 3
   },
   "file_extension": ".py",
   "mimetype": "text/x-python",
   "name": "python",
   "nbconvert_exporter": "python",
   "pygments_lexer": "ipython3",
   "version": "3.9.12"
  }
 },
 "nbformat": 4,
 "nbformat_minor": 5
}
